{
 "cells": [
  {
   "cell_type": "code",
   "execution_count": 1,
   "metadata": {},
   "outputs": [],
   "source": [
    "#pip install opencv-python mediapipe pyautogui pygame"
   ]
  },
  {
   "cell_type": "code",
   "execution_count": 2,
   "metadata": {},
   "outputs": [
    {
     "name": "stdout",
     "output_type": "stream",
     "text": [
      "pygame 2.6.1 (SDL 2.28.4, Python 3.12.4)\n",
      "Hello from the pygame community. https://www.pygame.org/contribute.html\n"
     ]
    }
   ],
   "source": [
    "import cv2\n",
    "import mediapipe as mp\n",
    "import pyautogui\n",
    "import pygame"
   ]
  },
  {
   "cell_type": "code",
   "execution_count": 3,
   "metadata": {},
   "outputs": [
    {
     "name": "stderr",
     "output_type": "stream",
     "text": [
      "c:\\Users\\29tau\\anaconda3\\Lib\\site-packages\\google\\protobuf\\symbol_database.py:55: UserWarning: SymbolDatabase.GetPrototype() is deprecated. Please use message_factory.GetMessageClass() instead. SymbolDatabase.GetPrototype() will be removed soon.\n",
      "  warnings.warn('SymbolDatabase.GetPrototype() is deprecated. Please '\n"
     ]
    }
   ],
   "source": [
    "# Inicializa MediaPipe y sus módulos\n",
    "mp_hands = mp.solutions.hands\n",
    "hands = mp_hands.Hands(max_num_hands=1)\n",
    "mp_drawing = mp.solutions.drawing_utils\n",
    "\n",
    "# Captura de video\n",
    "cap = cv2.VideoCapture(0)\n",
    "\n",
    "# Inicializa Pygame\n",
    "pygame.init()\n",
    "window_width, window_height = 640, 480\n",
    "screen = pygame.display.set_mode((window_width, window_height))\n",
    "pygame.display.set_caption(\"Dibuja con la Mano\")\n",
    "\n",
    "# Definir color del lápiz\n",
    "pen_color = (0, 128, 255)  # Azul\n",
    "pen_radius = 5  # Grosor del lápiz\n",
    "indicator_color = (255, 0, 0)  # Rojo para el indicador\n",
    "indicator_radius = 10  # Grosor del indicador\n",
    "\n",
    "# Dimensiones de la pantalla para mover el mouse\n",
    "screen_width, screen_height = pyautogui.size()\n",
    "\n",
    "# Para almacenar si la mano está cerrada\n",
    "is_drawing = False\n",
    "drawing_points = []  # Lista para almacenar puntos de dibujo\n",
    "\n",
    "# Función para determinar si la mano está cerrada\n",
    "def is_hand_closed(landmarks):\n",
    "    finger_tips = [mp_hands.HandLandmark.INDEX_FINGER_TIP,\n",
    "                   mp_hands.HandLandmark.MIDDLE_FINGER_TIP,\n",
    "                   mp_hands.HandLandmark.RING_FINGER_TIP,\n",
    "                   mp_hands.HandLandmark.PINKY_TIP]\n",
    "\n",
    "    is_closed = True\n",
    "    for tip in finger_tips:\n",
    "        base = tip - 2  # El nudillo correspondiente\n",
    "        if landmarks[tip].y < landmarks[base].y:  # Si la punta está por arriba del nudillo\n",
    "            is_closed = False\n",
    "    return is_closed\n",
    "\n",
    "# Bucle principal\n",
    "running = True\n",
    "while running:\n",
    "    # Capturar los eventos de Pygame\n",
    "    for event in pygame.event.get():\n",
    "        if event.type == pygame.QUIT:\n",
    "            running = False\n",
    "\n",
    "    # Captura el frame de la cámara\n",
    "    ret, frame = cap.read()\n",
    "    if not ret:\n",
    "        break\n",
    "\n",
    "    # Convierte la imagen a RGB\n",
    "    frame_rgb = cv2.cvtColor(frame, cv2.COLOR_BGR2RGB)\n",
    "\n",
    "    # Procesa el frame con MediaPipe\n",
    "    results = hands.process(frame_rgb)\n",
    "\n",
    "    # Limpiar la pantalla de Pygame\n",
    "    screen.fill((255, 255, 255))  # Fondo blanco\n",
    "\n",
    "    # Si detecta manos\n",
    "    if results.multi_hand_landmarks:\n",
    "        for hand_landmarks in results.multi_hand_landmarks:\n",
    "            # Dibuja los puntos de referencia en la mano\n",
    "            mp_drawing.draw_landmarks(frame, hand_landmarks, mp_hands.HAND_CONNECTIONS)\n",
    "\n",
    "            # Obtén la posición de la muñeca (landmark 0)\n",
    "            x = int(hand_landmarks.landmark[mp_hands.HandLandmark.WRIST].x * window_width)\n",
    "            y = int(hand_landmarks.landmark[mp_hands.HandLandmark.WRIST].y * window_height)\n",
    "\n",
    "            # Dibuja el indicador en la posición de la muñeca\n",
    "            pygame.draw.circle(screen, indicator_color, (x, y), indicator_radius)\n",
    "\n",
    "            # Verifica si la mano está cerrada para comenzar a dibujar\n",
    "            if is_hand_closed(hand_landmarks.landmark):\n",
    "                is_drawing = True\n",
    "                drawing_points.append((x, y))  # Agrega el punto actual a la lista de puntos\n",
    "            else:\n",
    "                is_drawing = False\n",
    "                drawing_points.append(None)  # Añade None para indicar un cambio de dibujo\n",
    "\n",
    "            # Invertir el movimiento: si la mano se mueve a la izquierda, el lápiz se mueve a la derecha\n",
    "            mouse_x = window_width - x  # Inversión del movimiento horizontal\n",
    "            mouse_y = y  # Mantener la misma altura\n",
    "\n",
    "            # Mueve el mouse basándose en la posición invertida de la mano\n",
    "            #pyautogui.moveTo(mouse_x, mouse_y)\n",
    "\n",
    "    # Dibuja líneas entre los puntos almacenados\n",
    "    for i in range(1, len(drawing_points)):\n",
    "        if drawing_points[i] is not None and drawing_points[i - 1] is not None:\n",
    "            pygame.draw.line(screen, pen_color, drawing_points[i - 1], drawing_points[i], pen_radius)\n",
    "\n",
    "    # Dibuja la imagen de la cámara en modo espejo\n",
    "    frame_flipped = cv2.flip(frame, 1)  # Invertir horizontalmente\n",
    "    cv2.imshow(\"Detección de Manos\", frame_flipped)  # Mostrar la imagen invertida\n",
    "\n",
    "    # Actualiza la pantalla de Pygame\n",
    "    pygame.display.flip()\n",
    "\n",
    "    # Salir del bucle si se presiona la tecla Esc\n",
    "    if cv2.waitKey(1) & 0xFF == 27:  # Esc para salir\n",
    "        running = False\n",
    "\n",
    "# Libera la cámara y cierra las ventanas\n",
    "cap.release()\n",
    "cv2.destroyAllWindows()\n",
    "pygame.quit()\n"
   ]
  }
 ],
 "metadata": {
  "kernelspec": {
   "display_name": "base",
   "language": "python",
   "name": "python3"
  },
  "language_info": {
   "codemirror_mode": {
    "name": "ipython",
    "version": 3
   },
   "file_extension": ".py",
   "mimetype": "text/x-python",
   "name": "python",
   "nbconvert_exporter": "python",
   "pygments_lexer": "ipython3",
   "version": "3.12.4"
  }
 },
 "nbformat": 4,
 "nbformat_minor": 2
}
